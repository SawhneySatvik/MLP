{
 "cells": [
  {
   "cell_type": "markdown",
   "metadata": {},
   "source": [
    "# Classification"
   ]
  },
  {
   "cell_type": "code",
   "execution_count": 1,
   "metadata": {},
   "outputs": [],
   "source": [
    "import numpy as np\n",
    "import os\n",
    "import io\n",
    "import warnings"
   ]
  },
  {
   "cell_type": "code",
   "execution_count": 7,
   "metadata": {},
   "outputs": [],
   "source": [
    "from sklearn.datasets import fetch_openml\n",
    "from sklearn.preprocessing import MinMaxScaler\n",
    "from sklearn.pipeline import Pipeline\n",
    "from sklearn.dummy import DummyClassifier\n",
    "from sklearn.linear_model import Perceptron\n",
    "from sklearn.metrics import ConfusionMatrixDisplay, confusion_matrix, precision_recall_curve, precision_score, recall_score, classification_report, make_scorer\n",
    "from sklearn.model_selection import cross_validate, cross_val_predict, GridSearchCV\n",
    "from pprint import pprint"
   ]
  },
  {
   "cell_type": "code",
   "execution_count": 11,
   "metadata": {},
   "outputs": [],
   "source": [
    "import matplotlib.pyplot as plt"
   ]
  },
  {
   "cell_type": "code",
   "execution_count": 5,
   "metadata": {},
   "outputs": [
    {
     "name": "stdout",
     "output_type": "stream",
     "text": [
      "(70000, 784) (70000,)\n"
     ]
    }
   ],
   "source": [
    "import ssl\n",
    "import urllib.request\n",
    "\n",
    "ssl._create_default_https_context = ssl._create_unverified_context\n",
    "\n",
    "urllib.request.install_opener(\n",
    "    urllib.request.build_opener(\n",
    "        urllib.request.HTTPSHandler(context=ssl._create_default_https_context())\n",
    "    )\n",
    ")\n",
    "\n",
    "X, y = fetch_openml('mnist_784', version=1, as_frame=True, return_X_y=True)\n",
    "\n",
    "print(X.shape, y.shape)"
   ]
  },
  {
   "cell_type": "code",
   "execution_count": 6,
   "metadata": {},
   "outputs": [],
   "source": [
    "X = X.to_numpy()\n",
    "y = y.to_numpy()"
   ]
  },
  {
   "cell_type": "code",
   "execution_count": 9,
   "metadata": {},
   "outputs": [
    {
     "name": "stdout",
     "output_type": "stream",
     "text": [
      "['0' '1' '2' '3' '4' '5' '6' '7' '8' '9']\n"
     ]
    }
   ],
   "source": [
    "target_names = np.unique(y)\n",
    "print(target_names)"
   ]
  },
  {
   "cell_type": "code",
   "execution_count": 10,
   "metadata": {},
   "outputs": [
    {
     "name": "stdout",
     "output_type": "stream",
     "text": [
      "Minimum:0.0, Maximum:1.0\n"
     ]
    }
   ],
   "source": [
    "X = MinMaxScaler().fit_transform(X)\n",
    "print(\"Minimum:{0}, Maximum:{1}\".format(np.min(X),np.max(X)))"
   ]
  },
  {
   "cell_type": "code",
   "execution_count": 14,
   "metadata": {},
   "outputs": [
    {
     "data": {
      "image/png": "[encoded data removed]",
      "text/plain": [
       "<Figure size 800x600 with 9 Axes>"
      ]
     },
     "metadata": {},
     "output_type": "display_data"
    }
   ],
   "source": [
    "num_images = 9\n",
    "factor = int(np.sqrt(num_images))\n",
    "fig, ax = plt.subplots(nrows=factor, ncols=factor, figsize=(8, 6))\n",
    "idx_offset = 0\n",
    "for i in range(factor):\n",
    "    index = idx_offset + i * factor\n",
    "    for j in range(factor):\n",
    "        ax[i, j].imshow(X[index + j].reshape(28, 28), cmap='gray')\n",
    "        ax[i, j].set_title('Label: {0}'.format(str(y[index + j])))\n",
    "        ax[i, j].set_axis_off()"
   ]
  },
  {
   "cell_type": "code",
   "execution_count": 15,
   "metadata": {},
   "outputs": [],
   "source": [
    "# Splitting data\n",
    "\n",
    "x_train, x_test, y_train, y_test = X[:60000], X[60000:], y[:60000], y[60000:]"
   ]
  },
  {
   "cell_type": "markdown",
   "metadata": {},
   "source": [
    "### 0 detector"
   ]
  },
  {
   "cell_type": "code",
   "execution_count": 16,
   "metadata": {},
   "outputs": [],
   "source": [
    "y_train_0 = -1*np.ones((len(y_train)))\n",
    "y_test_0 = -1*np.ones((len(y_test)))\n",
    "\n",
    "indx_0 = np.where(y_train=='0')\n",
    "y_train_0[indx_0] = 1\n",
    "\n",
    "indx_0 = np.where(y_test =='0')\n",
    "y_test_0[indx_0]=1"
   ]
  },
  {
   "cell_type": "code",
   "execution_count": 17,
   "metadata": {},
   "outputs": [
    {
     "name": "stdout",
     "output_type": "stream",
     "text": [
      "5923 54077\n"
     ]
    }
   ],
   "source": [
    "num_pos = len(np.where(y_train_0==1)[0])\n",
    "num_neg = len(np.where(y_train_0==-1)[0])\n",
    "print(num_pos, num_neg)"
   ]
  },
  {
   "cell_type": "code",
   "execution_count": 18,
   "metadata": {},
   "outputs": [],
   "source": [
    "base_clf = DummyClassifier(strategy='most_frequent')"
   ]
  },
  {
   "cell_type": "code",
   "execution_count": 19,
   "metadata": {},
   "outputs": [
    {
     "name": "stdout",
     "output_type": "stream",
     "text": [
      "Training Accuracy:  0.9012833333333333\n",
      "Test Accuracy:  0.902\n"
     ]
    }
   ],
   "source": [
    "base_clf.fit(x_train, y_train_0)\n",
    "print('Training Accuracy: ', base_clf.score(x_train, y_train_0))\n",
    "print('Test Accuracy: ',base_clf.score(x_test, y_test_0) )"
   ]
  },
  {
   "cell_type": "markdown",
   "metadata": {},
   "source": [
    "## Perceptron"
   ]
  },
  {
   "cell_type": "code",
   "execution_count": 20,
   "metadata": {},
   "outputs": [],
   "source": [
    "bin_clf = Perceptron(max_iter=100, random_state=1729)"
   ]
  },
  {
   "cell_type": "code",
   "execution_count": 22,
   "metadata": {},
   "outputs": [
    {
     "name": "stdout",
     "output_type": "stream",
     "text": [
      "Dimension of Weights w:  (1, 784)\n",
      "Bias:  [-108.]\n",
      "Loss function:  <sklearn.linear_model._sgd_fast.Hinge object at 0x14f97eef0>\n"
     ]
    },
    {
     "name": "stderr",
     "output_type": "stream",
     "text": [
      "/Users/satviksawhney/Downloads/IITMadras/MLP (Practical)/.venv/lib/python3.12/site-packages/sklearn/utils/deprecation.py:102: FutureWarning: Attribute `loss_function_` was deprecated in version 1.4 and will be removed in 1.6.\n",
      "  warnings.warn(msg, category=FutureWarning)\n"
     ]
    }
   ],
   "source": [
    "bin_clf.fit(x_train, y_train_0)\n",
    "print(\"Dimension of Weights w: \", bin_clf.coef_.shape)\n",
    "print('Bias: ', bin_clf.intercept_)\n",
    "print('Loss function: ', bin_clf.loss_function_)"
   ]
  },
  {
   "cell_type": "code",
   "execution_count": 23,
   "metadata": {},
   "outputs": [
    {
     "name": "stdout",
     "output_type": "stream",
     "text": [
      "Training Accuracy:  0.99095\n"
     ]
    }
   ],
   "source": [
    "y_hat_train = bin_clf.predict(x_train)\n",
    "print('Training Accuracy: ', bin_clf.score(x_train, y_train_0))"
   ]
  },
  {
   "cell_type": "code",
   "execution_count": 24,
   "metadata": {},
   "outputs": [
    {
     "name": "stdout",
     "output_type": "stream",
     "text": [
      "Test Accuracy:  0.989\n"
     ]
    }
   ],
   "source": [
    "print('Test Accuracy: ', bin_clf.score(x_test, y_test_0))"
   ]
  },
  {
   "cell_type": "code",
   "execution_count": null,
   "metadata": {},
   "outputs": [],
   "source": []
  }
 ],
 "metadata": {
  "kernelspec": {
   "display_name": ".venv",
   "language": "python",
   "name": "python3"
  },
  "language_info": {
   "codemirror_mode": {
    "name": "ipython",
    "version": 3
   },
   "file_extension": ".py",
   "mimetype": "text/x-python",
   "name": "python",
   "nbconvert_exporter": "python",
   "pygments_lexer": "ipython3",
   "version": "3.12.2"
  }
 },
 "nbformat": 4,
 "nbformat_minor": 2
}
