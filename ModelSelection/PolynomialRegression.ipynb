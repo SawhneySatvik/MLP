{
 "cells": [
  {
   "cell_type": "markdown",
   "metadata": {},
   "source": [
    "## Polynomial Regression\n",
    "\n",
    "### Two Steps\n",
    "1. Polynomial features of desired change (here degree = 2)\n",
    "2. Linear Rwegression "
   ]
  },
  {
   "cell_type": "code",
   "execution_count": 1,
   "metadata": {},
   "outputs": [],
   "source": [
    "from sklearn.linear_model import LinearRegression\n",
    "from sklearn.pipeline import Pipeline\n",
    "from sklearn.preprocessing import PolynomialFeatures"
   ]
  },
  {
   "cell_type": "code",
   "execution_count": 3,
   "metadata": {},
   "outputs": [],
   "source": [
    "poly_model = Pipeline([\n",
    "    ('polynomial_transform', PolynomialFeatures(degree=2)),\n",
    "    ('linear_regression', LinearRegression())\n",
    "])\n",
    "\n",
    "X_train = ['Some Data']\n",
    "y_train = ['Some Values']\n",
    "\n",
    "# poly_model.fit(X_train, y_train)"
   ]
  },
  {
   "cell_type": "code",
   "execution_count": 5,
   "metadata": {},
   "outputs": [],
   "source": [
    "from sklearn.linear_model import SGDRegressor\n",
    "\n",
    "poly_model_sgd = Pipeline([\n",
    "    ('polynomial_transform', PolynomialFeatures(degree=2)),\n",
    "    ('sgd_regression', SGDRegressor())\n",
    "])\n",
    "\n",
    "X_train = ['Some Data']\n",
    "y_train = ['Some Values']\n",
    "\n",
    "# poly_model_sgd.fit(X_train, y_train)"
   ]
  },
  {
   "cell_type": "code",
   "execution_count": 6,
   "metadata": {},
   "outputs": [],
   "source": [
    " # Ridge Regression\n",
    " \n",
    "from sklearn.linear_model import Ridge\n",
    "\n",
    "poly_model_ridge = Pipeline([\n",
    "    ('polynomial_transform', PolynomialFeatures(degree=2)),\n",
    "    ('ridge', Ridge(alpha=1e-3))\n",
    "])\n",
    "\n",
    "# poly_model_ridge.fit(X_train, y_train)"
   ]
  },
  {
   "cell_type": "code",
   "execution_count": 8,
   "metadata": {},
   "outputs": [],
   "source": [
    "# Lasso Regression\n",
    "\n",
    "from sklearn.linear_model import Lasso\n",
    "\n",
    "poly_model_lasso = Pipeline([\n",
    "    ('polynomial_transform', PolynomialFeatures(degree = 2)),\n",
    "    ('lasso', Lasso(alpha=1e-3))\n",
    "])\n",
    "\n",
    "# poly_model_lasso.fit(X_train, y_train)"
   ]
  },
  {
   "cell_type": "markdown",
   "metadata": {},
   "source": [
    "### HyperParameter Tuning\n",
    "\n",
    "Hyperparameter are those parameter that are not directly learnt within estimators"
   ]
  },
  {
   "cell_type": "code",
   "execution_count": null,
   "metadata": {},
   "outputs": [],
   "source": [
    " # GridSearchCV\n",
    " \n",
    "param_grid = [\n",
    "    {\n",
    "        'C':[1, 10, 100, 1000],\n",
    "        'kernel': ['linear']\n",
    "    }\n",
    "]\n",
    "\n",
    "# RandomizedSearchCV\n",
    "\n",
    "param_dist = {\n",
    "    \"average\": [True, False],\n",
    "    \"l1_ratio\": stats.uniform(0, 1),\n",
    "    \"alpha\": loguniform(1e-4, 1e0) \n",
    "}"
   ]
  },
  {
   "cell_type": "code",
   "execution_count": 9,
   "metadata": {},
   "outputs": [],
   "source": [
    "param_grid = [\n",
    "    {\n",
    "        'poly_degree': [2, 3, 4, 5, 6, 7, 8, 9]\n",
    "    }\n",
    "]\n",
    "\n",
    "pipeline = Pipeline(steps=[\n",
    "    ('poly', PolynomialFeatures()),\n",
    "    ('sgd', SGDRegressor())\n",
    "])\n",
    "\n",
    "from sklearn.model_selection import GridSearchCV\n",
    "grid_search = GridSearchCV(pipeline, param_grid, cv=5, scoring='neq_mean_squared_error', return_train_score=True)\n",
    "\n",
    "#grid_search.fit(x_train.reshape(-1, 1), y_train)"
   ]
  },
  {
   "cell_type": "code",
   "execution_count": null,
   "metadata": {},
   "outputs": [],
   "source": []
  }
 ],
 "metadata": {
  "kernelspec": {
   "display_name": ".venv",
   "language": "python",
   "name": "python3"
  },
  "language_info": {
   "codemirror_mode": {
    "name": "ipython",
    "version": 3
   },
   "file_extension": ".py",
   "mimetype": "text/x-python",
   "name": "python",
   "nbconvert_exporter": "python",
   "pygments_lexer": "ipython3",
   "version": "3.12.2"
  }
 },
 "nbformat": 4,
 "nbformat_minor": 2
}
