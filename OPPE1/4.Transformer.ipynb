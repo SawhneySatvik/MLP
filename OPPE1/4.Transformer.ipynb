{
 "cells": [
  {
   "cell_type": "markdown",
   "metadata": {},
   "source": [
    "# Transformers - Composite Transformers"
   ]
  },
  {
   "cell_type": "code",
   "execution_count": 1,
   "metadata": {},
   "outputs": [],
   "source": [
    "import numpy as np"
   ]
  },
  {
   "cell_type": "code",
   "execution_count": 2,
   "metadata": {},
   "outputs": [
    {
     "name": "stdout",
     "output_type": "stream",
     "text": [
      "[['20.0' 'male']\n",
      " ['11.2' 'female']\n",
      " ['15.6' 'female']\n",
      " ['13.0' 'male']\n",
      " ['18.6' 'male']\n",
      " ['16.4' 'female']]\n"
     ]
    }
   ],
   "source": [
    "data = np.array([[20.0, 'male'], [11.2, 'female'], [15.6, 'female'], [13.0, 'male'], [18.6, 'male'], [16.4, 'female']])\n",
    "print(data)"
   ]
  },
  {
   "cell_type": "code",
   "execution_count": 4,
   "metadata": {},
   "outputs": [
    {
     "name": "stdout",
     "output_type": "stream",
     "text": [
      "[[1.   0.   1.  ]\n",
      " [0.56 1.   0.  ]\n",
      " [0.78 1.   0.  ]\n",
      " [0.65 0.   1.  ]\n",
      " [0.93 0.   1.  ]\n",
      " [0.82 1.   0.  ]]\n"
     ]
    }
   ],
   "source": [
    "#Column Transformer\n",
    "\n",
    "from sklearn.compose import ColumnTransformer\n",
    "from sklearn.preprocessing import MaxAbsScaler, OneHotEncoder\n",
    "\n",
    "column_trans = ColumnTransformer(\n",
    "    [\n",
    "        ('ageScaler', MaxAbsScaler(), [0]),\n",
    "        ('genderEnoder', OneHotEncoder(dtype='int'), [1])\n",
    "    ], \n",
    "    remainder= 'drop', \n",
    "    verbose_feature_names_out= True\n",
    ")\n",
    "\n",
    "column_transformed_data = column_trans.fit_transform(data)\n",
    "\n",
    "print(column_transformed_data)\n"
   ]
  },
  {
   "cell_type": "code",
   "execution_count": 5,
   "metadata": {},
   "outputs": [],
   "source": [
    "# Transformed Target Regressor\n",
    "\n",
    "from sklearn.linear_model import LinearRegression\n",
    "from sklearn.compose import TransformedTargetRegressor\n",
    "\n",
    "tt = TransformedTargetRegressor(regressor=LinearRegression(), func=np.log, inverse_func=np.exp)\n",
    "\n",
    "# X = np.arange(4).reshape(-1, 1)\n",
    "# y = np.exp(2 * X).ravel()\n",
    "# tt.fit()"
   ]
  },
  {
   "cell_type": "code",
   "execution_count": null,
   "metadata": {},
   "outputs": [],
   "source": [
    "# Chaining Transformers\n",
    "\n",
    "from sklearn.impute import SimpleImputer\n",
    "from sklearn.preprocessing import StandardScaler\n",
    "\n",
    "# It is important to implement them in same order\n",
    "# Therefore we have pipeline and feature union\n",
    "\n",
    "\n"
   ]
  }
 ],
 "metadata": {
  "kernelspec": {
   "display_name": ".venv",
   "language": "python",
   "name": "python3"
  },
  "language_info": {
   "codemirror_mode": {
    "name": "ipython",
    "version": 3
   },
   "file_extension": ".py",
   "mimetype": "text/x-python",
   "name": "python",
   "nbconvert_exporter": "python",
   "pygments_lexer": "ipython3",
   "version": "3.12.2"
  }
 },
 "nbformat": 4,
 "nbformat_minor": 2
}
