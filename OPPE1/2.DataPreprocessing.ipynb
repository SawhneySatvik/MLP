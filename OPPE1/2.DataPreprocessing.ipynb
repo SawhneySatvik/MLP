{
 "cells": [
  {
   "cell_type": "markdown",
   "metadata": {},
   "source": [
    "# Feaure Extraction\n",
    "- Dictionary Vectorizer - Converts lists of mappings of feature name and feature value into a matrix\n"
   ]
  },
  {
   "cell_type": "code",
   "execution_count": 1,
   "metadata": {},
   "outputs": [],
   "source": [
    "data = [\n",
    "    {\n",
    "        'age':4, \"height\":96.0\n",
    "    },\n",
    "    {\n",
    "        'age':6, \"height\":108.0\n",
    "    },\n",
    "    {\n",
    "        'age':9, \"height\":173.0\n",
    "    },\n",
    "    {\n",
    "        'age':10, \"height\":54.0\n",
    "    },\n",
    "]"
   ]
  },
  {
   "cell_type": "code",
   "execution_count": 5,
   "metadata": {},
   "outputs": [],
   "source": [
    "from sklearn.feature_extraction import DictVectorizer\n",
    "dv = DictVectorizer(sparse=False)\n",
    "vectorized_data = dv.fit_transform(data)"
   ]
  },
  {
   "cell_type": "code",
   "execution_count": 11,
   "metadata": {},
   "outputs": [
    {
     "name": "stdout",
     "output_type": "stream",
     "text": [
      "[[  4.  96.]\n",
      " [  6. 108.]\n",
      " [  9. 173.]\n",
      " [ 10.  54.]]\n",
      "<class 'numpy.ndarray'>\n",
      "[{'age': 4, 'height': 96.0}, {'age': 6, 'height': 108.0}, {'age': 9, 'height': 173.0}, {'age': 10, 'height': 54.0}]\n",
      "<class 'list'>\n"
     ]
    }
   ],
   "source": [
    "print(vectorized_data)\n",
    "print(type(vectorized_data))\n",
    "print(data)\n",
    "print(type(data))"
   ]
  },
  {
   "cell_type": "code",
   "execution_count": 12,
   "metadata": {},
   "outputs": [
    {
     "name": "stdout",
     "output_type": "stream",
     "text": [
      "[{'age': np.float64(4.0), 'height': np.float64(96.0)}, {'age': np.float64(6.0), 'height': np.float64(108.0)}, {'age': np.float64(9.0), 'height': np.float64(173.0)}, {'age': np.float64(10.0), 'height': np.float64(54.0)}]\n",
      "<class 'list'>\n"
     ]
    }
   ],
   "source": [
    "data_back = dv.inverse_transform(vectorized_data)\n",
    "print(data_back)\n",
    "print(type(data_back))"
   ]
  },
  {
   "cell_type": "markdown",
   "metadata": {},
   "source": [
    "# Cleaning Data\n",
    "- Simple Imputer - Fills missing values with one of the following stratergies\n",
    "- - mean\n",
    "- - median\n",
    "- - most_frequesnt\n",
    "- - constant"
   ]
  },
  {
   "cell_type": "code",
   "execution_count": 14,
   "metadata": {},
   "outputs": [],
   "source": [
    "import numpy as np"
   ]
  },
  {
   "cell_type": "code",
   "execution_count": 16,
   "metadata": {},
   "outputs": [
    {
     "name": "stdout",
     "output_type": "stream",
     "text": [
      "[[ 7.  1.]\n",
      " [nan  8.]\n",
      " [ 2. nan]\n",
      " [ 9.  6.]]\n"
     ]
    }
   ],
   "source": [
    "matrix = np.array([[7, 1],[np.nan, 8], [2, np.nan], [9,6]])\n",
    "print(matrix)"
   ]
  },
  {
   "cell_type": "code",
   "execution_count": 18,
   "metadata": {},
   "outputs": [],
   "source": [
    "from sklearn.impute import SimpleImputer\n",
    "si_mean = SimpleImputer(strategy=\"mean\")\n",
    "si_median = SimpleImputer(strategy=\"median\")\n",
    "si_most_frequent = SimpleImputer(strategy=\"most_frequent\")\n",
    "si_constant = SimpleImputer(strategy=\"constant\")"
   ]
  },
  {
   "cell_type": "code",
   "execution_count": 19,
   "metadata": {},
   "outputs": [
    {
     "name": "stdout",
     "output_type": "stream",
     "text": [
      "[[7. 1.]\n",
      " [6. 8.]\n",
      " [2. 5.]\n",
      " [9. 6.]]\n"
     ]
    }
   ],
   "source": [
    "matrix_mean = si_mean.fit_transform(matrix)\n",
    "print(matrix_mean)"
   ]
  },
  {
   "cell_type": "code",
   "execution_count": 20,
   "metadata": {},
   "outputs": [
    {
     "name": "stdout",
     "output_type": "stream",
     "text": [
      "[[7. 1.]\n",
      " [7. 8.]\n",
      " [2. 6.]\n",
      " [9. 6.]]\n"
     ]
    }
   ],
   "source": [
    "matrix_median = si_median.fit_transform(matrix)\n",
    "print(matrix_median)"
   ]
  },
  {
   "cell_type": "code",
   "execution_count": 23,
   "metadata": {},
   "outputs": [
    {
     "name": "stdout",
     "output_type": "stream",
     "text": [
      "[[7. 1.]\n",
      " [2. 8.]\n",
      " [2. 1.]\n",
      " [9. 6.]]\n"
     ]
    }
   ],
   "source": [
    "matrix_most_frequent = si_most_frequent.fit_transform(matrix)\n",
    "print(matrix_most_frequent)"
   ]
  },
  {
   "cell_type": "code",
   "execution_count": null,
   "metadata": {},
   "outputs": [],
   "source": []
  },
  {
   "cell_type": "code",
   "execution_count": 24,
   "metadata": {},
   "outputs": [],
   "source": [
    "from sklearn.impute import KNNImputer\n"
   ]
  },
  {
   "cell_type": "code",
   "execution_count": 26,
   "metadata": {},
   "outputs": [
    {
     "name": "stdout",
     "output_type": "stream",
     "text": [
      "[[ 1.  2. nan]\n",
      " [ 3.  4.  3.]\n",
      " [nan  6.  5.]\n",
      " [ 8.  8.  7.]]\n"
     ]
    }
   ],
   "source": [
    "matrix_KNN = np.array([[1, 2, np.nan], [3, 4, 3], [np.nan, 6, 5], [8, 8, 7]])\n",
    "print(matrix_KNN)"
   ]
  },
  {
   "cell_type": "code",
   "execution_count": 27,
   "metadata": {},
   "outputs": [
    {
     "name": "stdout",
     "output_type": "stream",
     "text": [
      "[[1. 2. 5.]\n",
      " [3. 4. 3.]\n",
      " [4. 6. 5.]\n",
      " [8. 8. 7.]]\n"
     ]
    }
   ],
   "source": [
    "knni = KNNImputer()\n",
    "\n",
    "matrix_knn_transformed = knni.fit_transform(matrix_KNN)\n",
    "\n",
    "print(matrix_knn_transformed) "
   ]
  },
  {
   "cell_type": "code",
   "execution_count": 28,
   "metadata": {},
   "outputs": [
    {
     "name": "stdout",
     "output_type": "stream",
     "text": [
      "[[1.  2.  4. ]\n",
      " [3.  4.  3. ]\n",
      " [5.5 6.  5. ]\n",
      " [8.  8.  7. ]]\n"
     ]
    }
   ],
   "source": [
    "knni2 = KNNImputer(n_neighbors=2, weights=\"uniform\")\n",
    "\n",
    "matrix_knn_transformed2 = knni2.fit_transform(matrix_KNN)\n",
    "\n",
    "print(matrix_knn_transformed2) "
   ]
  },
  {
   "cell_type": "markdown",
   "metadata": {},
   "source": [
    "# Feature Scaling"
   ]
  },
  {
   "cell_type": "markdown",
   "metadata": {},
   "source": [
    "## Numeric Transformer"
   ]
  },
  {
   "cell_type": "code",
   "execution_count": 29,
   "metadata": {},
   "outputs": [],
   "source": [
    "from sklearn.preprocessing import StandardScaler"
   ]
  },
  {
   "cell_type": "code",
   "execution_count": 44,
   "metadata": {},
   "outputs": [
    {
     "name": "stdout",
     "output_type": "stream",
     "text": [
      "[[4]\n",
      " [3]\n",
      " [2]\n",
      " [5]\n",
      " [6]]\n"
     ]
    }
   ],
   "source": [
    "X_S = np.array([[4,], [3,], [2,], [5,], [6,]])\n",
    "print(X_S)"
   ]
  },
  {
   "cell_type": "code",
   "execution_count": 45,
   "metadata": {},
   "outputs": [
    {
     "name": "stdout",
     "output_type": "stream",
     "text": [
      "[[ 0.        ]\n",
      " [-0.70710678]\n",
      " [-1.41421356]\n",
      " [ 0.70710678]\n",
      " [ 1.41421356]]\n"
     ]
    }
   ],
   "source": [
    "ss = StandardScaler()\n",
    "new_X_SS = ss.fit_transform(X_S)\n",
    "print(new_X_SS)"
   ]
  },
  {
   "cell_type": "code",
   "execution_count": 47,
   "metadata": {},
   "outputs": [
    {
     "name": "stdout",
     "output_type": "stream",
     "text": [
      "[[0.5 ]\n",
      " [0.25]\n",
      " [0.  ]\n",
      " [0.75]\n",
      " [1.  ]]\n"
     ]
    }
   ],
   "source": [
    "from sklearn.preprocessing import MinMaxScaler\n",
    "\n",
    "mms = MinMaxScaler()\n",
    "\n",
    "X_mss = mms.fit_transform(X_S)\n",
    "\n",
    "print(X_mss)"
   ]
  },
  {
   "cell_type": "code",
   "execution_count": 48,
   "metadata": {},
   "outputs": [
    {
     "name": "stdout",
     "output_type": "stream",
     "text": [
      "[[0.66666667]\n",
      " [0.5       ]\n",
      " [0.33333333]\n",
      " [0.83333333]\n",
      " [1.        ]]\n"
     ]
    }
   ],
   "source": [
    "from sklearn.preprocessing import MaxAbsScaler\n",
    "\n",
    "mas = MaxAbsScaler()\n",
    "\n",
    "X_mas = mas.fit_transform(X_S)\n",
    "\n",
    "print(X_mas)"
   ]
  },
  {
   "cell_type": "code",
   "execution_count": 49,
   "metadata": {},
   "outputs": [
    {
     "name": "stdout",
     "output_type": "stream",
     "text": [
      "[[128   2]\n",
      " [  2 256]\n",
      " [  4   1]\n",
      " [512  64]]\n"
     ]
    }
   ],
   "source": [
    "# Function Transformer - Custom Transformer\n",
    "\n",
    "X_FT = np.array([[128, 2], [2, 256], [4, 1], [512, 64]])\n",
    "print(X_FT)"
   ]
  },
  {
   "cell_type": "code",
   "execution_count": 50,
   "metadata": {},
   "outputs": [
    {
     "name": "stdout",
     "output_type": "stream",
     "text": [
      "[[7. 1.]\n",
      " [1. 8.]\n",
      " [2. 0.]\n",
      " [9. 6.]]\n"
     ]
    }
   ],
   "source": [
    "from sklearn.preprocessing import FunctionTransformer\n",
    "\n",
    "ft = FunctionTransformer(np.log2)\n",
    "\n",
    "new_x_ft = ft.fit_transform(X_FT)\n",
    "\n",
    "print(new_x_ft)"
   ]
  },
  {
   "cell_type": "code",
   "execution_count": 51,
   "metadata": {},
   "outputs": [
    {
     "name": "stdout",
     "output_type": "stream",
     "text": [
      "[[ 1.  1.  1.  1.  1.  1.]\n",
      " [ 1.  2.  2.  4.  4.  4.]\n",
      " [ 1.  3.  3.  9.  9.  9.]\n",
      " [ 1.  4.  4. 16. 16. 16.]]\n"
     ]
    }
   ],
   "source": [
    "# Polynomial Transformation\n",
    "\n",
    "X_PF= np.array([[1, 1], [2, 2], [3, 3], [4, 4]])\n",
    "\n",
    "from sklearn.preprocessing import PolynomialFeatures\n",
    "\n",
    "pf = PolynomialFeatures(degree=2)\n",
    "\n",
    "new_pf = pf.fit_transform(X_PF)\n",
    "\n",
    "print(new_pf)"
   ]
  },
  {
   "cell_type": "markdown",
   "metadata": {},
   "source": [
    "## Categorical Transformers"
   ]
  },
  {
   "cell_type": "code",
   "execution_count": 59,
   "metadata": {},
   "outputs": [
    {
     "name": "stdout",
     "output_type": "stream",
     "text": [
      "[[1]\n",
      " [2]\n",
      " [6]\n",
      " [1]\n",
      " [8]\n",
      " [6]]\n"
     ]
    }
   ],
   "source": [
    "# One Hot Encoder\n",
    "\n",
    "X_CT = np.array([[1], [2], [6], [1], [8], [6]])\n",
    "print(X_CT)"
   ]
  },
  {
   "cell_type": "code",
   "execution_count": 62,
   "metadata": {},
   "outputs": [
    {
     "data": {
      "text/plain": [
       "<Compressed Sparse Row sparse matrix of dtype 'float64'\n",
       "\twith 6 stored elements and shape (6, 4)>"
      ]
     },
     "execution_count": 62,
     "metadata": {},
     "output_type": "execute_result"
    }
   ],
   "source": [
    "from sklearn.preprocessing import OneHotEncoder\n",
    "\n",
    "ohe = OneHotEncoder()\n",
    "\n",
    "ohe.fit_transform(X_CT)"
   ]
  },
  {
   "cell_type": "code",
   "execution_count": 64,
   "metadata": {},
   "outputs": [
    {
     "name": "stderr",
     "output_type": "stream",
     "text": [
      "/Users/satviksawhney/Downloads/IITMadras/MLP (Practical)/.venv/lib/python3.12/site-packages/sklearn/preprocessing/_label.py:114: DataConversionWarning: A column-vector y was passed when a 1d array was expected. Please change the shape of y to (n_samples, ), for example using ravel().\n",
      "  y = column_or_1d(y, warn=True)\n"
     ]
    },
    {
     "data": {
      "text/plain": [
       "array([0, 1, 2, 0, 3, 2])"
      ]
     },
     "execution_count": 64,
     "metadata": {},
     "output_type": "execute_result"
    }
   ],
   "source": [
    "from sklearn.preprocessing import LabelEncoder\n",
    "\n",
    "le = LabelEncoder()\n",
    "\n",
    "le_x = le.fit_transform(X_CT)"
   ]
  },
  {
   "cell_type": "code",
   "execution_count": null,
   "metadata": {},
   "outputs": [],
   "source": []
  }
 ],
 "metadata": {
  "kernelspec": {
   "display_name": ".venv",
   "language": "python",
   "name": "python3"
  },
  "language_info": {
   "codemirror_mode": {
    "name": "ipython",
    "version": 3
   },
   "file_extension": ".py",
   "mimetype": "text/x-python",
   "name": "python",
   "nbconvert_exporter": "python",
   "pygments_lexer": "ipython3",
   "version": "3.12.2"
  }
 },
 "nbformat": 4,
 "nbformat_minor": 2
}
