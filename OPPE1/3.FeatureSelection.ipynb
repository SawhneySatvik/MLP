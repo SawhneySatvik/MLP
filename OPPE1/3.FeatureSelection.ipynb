{
 "cells": [
  {
   "cell_type": "markdown",
   "metadata": {},
   "source": [
    "# Feature Selcetion\n",
    "\n",
    "## Filter Based\n",
    "- Variance Threshold\n",
    "- SlectKBest\n",
    "- SelectPercentile\n",
    "- GenericUnivariateSelect\n",
    "\n",
    "## Wrapper Based\n",
    "- RecursiveFeatureElimination\n",
    "- RecursiveFeatureEliminationCrossValidation\n",
    "- SelectFromModel\n",
    "- SequentialFeatureSelection"
   ]
  },
  {
   "cell_type": "markdown",
   "metadata": {},
   "source": []
  },
  {
   "cell_type": "code",
   "execution_count": null,
   "metadata": {},
   "outputs": [],
   "source": []
  }
 ],
 "metadata": {
  "language_info": {
   "name": "python"
  }
 },
 "nbformat": 4,
 "nbformat_minor": 2
}
