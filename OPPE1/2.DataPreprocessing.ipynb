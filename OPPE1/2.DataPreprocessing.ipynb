{
 "cells": [
  {
   "cell_type": "markdown",
   "metadata": {},
   "source": [
    "# Feaure Extraction\n",
    "- Dictionary Vectorizer - Converts lists of mappings of feature name and feature value into a matrix\n"
   ]
  },
  {
   "cell_type": "code",
   "execution_count": 1,
   "metadata": {},
   "outputs": [],
   "source": [
    "data = [\n",
    "    {\n",
    "        'age':4, \"height\":96.0\n",
    "    },\n",
    "    {\n",
    "        'age':6, \"height\":108.0\n",
    "    },\n",
    "    {\n",
    "        'age':9, \"height\":173.0\n",
    "    },\n",
    "    {\n",
    "        'age':10, \"height\":54.0\n",
    "    },\n",
    "]"
   ]
  },
  {
   "cell_type": "code",
   "execution_count": 5,
   "metadata": {},
   "outputs": [],
   "source": [
    "from sklearn.feature_extraction import DictVectorizer\n",
    "dv = DictVectorizer(sparse=False)\n",
    "vectorized_data = dv.fit_transform(data)"
   ]
  },
  {
   "cell_type": "code",
   "execution_count": 11,
   "metadata": {},
   "outputs": [
    {
     "name": "stdout",
     "output_type": "stream",
     "text": [
      "[[  4.  96.]\n",
      " [  6. 108.]\n",
      " [  9. 173.]\n",
      " [ 10.  54.]]\n",
      "<class 'numpy.ndarray'>\n",
      "[{'age': 4, 'height': 96.0}, {'age': 6, 'height': 108.0}, {'age': 9, 'height': 173.0}, {'age': 10, 'height': 54.0}]\n",
      "<class 'list'>\n"
     ]
    }
   ],
   "source": [
    "print(vectorized_data)\n",
    "print(type(vectorized_data))\n",
    "print(data)\n",
    "print(type(data))"
   ]
  },
  {
   "cell_type": "code",
   "execution_count": 12,
   "metadata": {},
   "outputs": [
    {
     "name": "stdout",
     "output_type": "stream",
     "text": [
      "[{'age': np.float64(4.0), 'height': np.float64(96.0)}, {'age': np.float64(6.0), 'height': np.float64(108.0)}, {'age': np.float64(9.0), 'height': np.float64(173.0)}, {'age': np.float64(10.0), 'height': np.float64(54.0)}]\n",
      "<class 'list'>\n"
     ]
    }
   ],
   "source": [
    "data_back = dv.inverse_transform(vectorized_data)\n",
    "print(data_back)\n",
    "print(type(data_back))"
   ]
  },
  {
   "cell_type": "markdown",
   "metadata": {},
   "source": [
    "# Cleaning Data"
   ]
  },
  {
   "cell_type": "markdown",
   "metadata": {},
   "source": []
  }
 ],
 "metadata": {
  "kernelspec": {
   "display_name": ".venv",
   "language": "python",
   "name": "python3"
  },
  "language_info": {
   "codemirror_mode": {
    "name": "ipython",
    "version": 3
   },
   "file_extension": ".py",
   "mimetype": "text/x-python",
   "name": "python",
   "nbconvert_exporter": "python",
   "pygments_lexer": "ipython3",
   "version": "3.12.2"
  }
 },
 "nbformat": 4,
 "nbformat_minor": 2
}
