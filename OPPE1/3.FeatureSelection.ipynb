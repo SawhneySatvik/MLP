{
 "cells": [
  {
   "cell_type": "markdown",
   "metadata": {},
   "source": [
    "# Feature Selcetion\n",
    "\n",
    "## Filter Based\n",
    "- Variance Threshold\n",
    "- SlectKBest\n",
    "- SelectPercentile\n",
    "- GenericUnivariateSelect\n",
    "\n",
    "## Wrapper Based\n",
    "- RecursiveFeatureElimination\n",
    "- RecursiveFeatureEliminationCrossValidation\n",
    "- SelectFromModel\n",
    "- SequentialFeatureSelection"
   ]
  },
  {
   "cell_type": "code",
   "execution_count": 2,
   "metadata": {},
   "outputs": [
    {
     "name": "stdout",
     "output_type": "stream",
     "text": [
      "[[ 1  2  3]\n",
      " [ 4  5  6]\n",
      " [ 7  8  9]\n",
      " [11 12 13]\n",
      " [14 15 16]]\n",
      "[[ 6]\n",
      " [15]\n",
      " [24]\n",
      " [36]\n",
      " [45]]\n"
     ]
    }
   ],
   "source": [
    "import numpy as np\n",
    "\n",
    "x = np.array([[1, 2, 3], [4, 5, 6], [7, 8, 9], [11, 12, 13], [14, 15, 16]])\n",
    "y = np.array([[6], [15], [24], [36], [45]])\n",
    "\n",
    "print(x)\n",
    "print(y)"
   ]
  },
  {
   "cell_type": "code",
   "execution_count": 4,
   "metadata": {},
   "outputs": [
    {
     "name": "stdout",
     "output_type": "stream",
     "text": [
      "[[ 1  2]\n",
      " [ 4  5]\n",
      " [ 7  8]\n",
      " [11 12]\n",
      " [14 15]]\n"
     ]
    }
   ],
   "source": [
    "# SelectKBest\n",
    "\n",
    "from sklearn.feature_selection import SelectKBest, chi2\n",
    "\n",
    "skb = SelectKBest(chi2, k=2)\n",
    "\n",
    "x_np = skb.fit_transform(x, y)\n",
    "# Select 20 best features based on chi-squaring function\n",
    "\n",
    "print(x_np)"
   ]
  },
  {
   "cell_type": "code",
   "execution_count": 5,
   "metadata": {},
   "outputs": [
    {
     "name": "stdout",
     "output_type": "stream",
     "text": [
      "[[ 1]\n",
      " [ 4]\n",
      " [ 7]\n",
      " [11]\n",
      " [14]]\n"
     ]
    }
   ],
   "source": [
    "from sklearn.feature_selection import SelectPercentile\n",
    "\n",
    "sp = SelectPercentile(chi2, percentile=20)\n",
    "\n",
    "# select top 20 percentiles best feature\n",
    "\n",
    "x_sp = sp.fit_transform(x, y)\n",
    "\n",
    "print(x_sp)"
   ]
  },
  {
   "cell_type": "code",
   "execution_count": 8,
   "metadata": {},
   "outputs": [
    {
     "name": "stdout",
     "output_type": "stream",
     "text": [
      "[[ 1  2]\n",
      " [ 4  5]\n",
      " [ 7  8]\n",
      " [11 12]\n",
      " [14 15]]\n"
     ]
    }
   ],
   "source": [
    "# Gneric Univariate Select\n",
    "\n",
    "from sklearn.feature_selection import GenericUnivariateSelect\n",
    "\n",
    "generic = GenericUnivariateSelect(chi2, mode = 'k_best', param = 2)\n",
    "\n",
    "X_new = generic.fit_transform(x, y)\n",
    "\n",
    "print(X_new)"
   ]
  },
  {
   "cell_type": "markdown",
   "metadata": {},
   "source": [
    "## Wrapper Based"
   ]
  },
  {
   "cell_type": "code",
   "execution_count": 10,
   "metadata": {},
   "outputs": [],
   "source": [
    "# RFE\n",
    "from sklearn.feature_selection import RFE\n",
    "\n",
    "rfe = RFE(estimator=\"mean\")\n",
    "\n"
   ]
  },
  {
   "cell_type": "code",
   "execution_count": 12,
   "metadata": {},
   "outputs": [],
   "source": [
    "# SelectFromModel\n",
    "# from sklearn.linear_model import LinarCV\n",
    "# from sklearn.feature_selection import SelectFromModel\n",
    "\n",
    "# clf = LinarCV(c=0.01, penalty =\"l1\", dual=\"false\")\n",
    "# clf = clf.fit(X, y)\n",
    "# clf.coef_\n",
    "\n",
    "# model = SelectFromModel(clf, prefit=True)\n",
    "# X_new = model.tramsform(X)"
   ]
  },
  {
   "cell_type": "code",
   "execution_count": 11,
   "metadata": {},
   "outputs": [],
   "source": [
    "# Sequential Feature Selection\n",
    "## Forward Selection - Starting with 0 features and add one feature with every iteration\n",
    "## Backward Selection - Start with all features and discard one feature each iteration"
   ]
  },
  {
   "cell_type": "code",
   "execution_count": null,
   "metadata": {},
   "outputs": [],
   "source": []
  }
 ],
 "metadata": {
  "kernelspec": {
   "display_name": ".venv",
   "language": "python",
   "name": "python3"
  },
  "language_info": {
   "codemirror_mode": {
    "name": "ipython",
    "version": 3
   },
   "file_extension": ".py",
   "mimetype": "text/x-python",
   "name": "python",
   "nbconvert_exporter": "python",
   "pygments_lexer": "ipython3",
   "version": "3.12.2"
  }
 },
 "nbformat": 4,
 "nbformat_minor": 2
}
